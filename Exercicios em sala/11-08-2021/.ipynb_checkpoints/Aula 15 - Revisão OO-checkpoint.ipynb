{
 "cells": [
  {
   "cell_type": "markdown",
   "metadata": {
    "id": "bcc3xLVMYpOZ"
   },
   "source": [
    "# Revisão \n",
    "- [Orientação a objetos](#1)\n",
    "- [Tratamentos de exceção](#2)\n",
    "- [Módulos](#3)\n",
    "- [Exercícios](#4)\n",
    "- [Testes unitários](#5)"
   ]
  },
  {
   "cell_type": "markdown",
   "metadata": {
    "id": "bp3U2rPiYpOe"
   },
   "source": [
    "## Orientação a objetos<a class=\"anchor\" id=\"1\"></a>\n",
    "\n",
    "- Objetos\n",
    "    - Atributos\n",
    "    - Métodos\n",
    "- Classes\n",
    "    - Construtor (```__init__```)\n",
    "    \n",
    "- 4 pilares OO\n",
    "    - Abstração\n",
    "    - Encapsulamento\n",
    "    - Herança\n",
    "    - Polimorfismo\n"
   ]
  },
  {
   "cell_type": "code",
   "execution_count": null,
   "metadata": {
    "id": "L2f0tZ66YpOf"
   },
   "outputs": [],
   "source": [
    "class Animal(object): # classe abstrata\n",
    "    def __init__(self, cor, tamanho): # construtor\n",
    "        self.cor = cor # atributo\n",
    "        self.tamanho = tamanho\n",
    "        \n",
    "    def locomove(self): # método\n",
    "        print('O animal anda.')\n",
    "\n",
    "class Passaro(Animal): # herança\n",
    "    def locomove(self): # polimorfismo\n",
    "        print('O pássaro voa.')\n",
    "        \n",
    "class Peixe(Animal):\n",
    "    def locomove(self):\n",
    "        print('O peixe nada.')\n",
    "    \n",
    "class Cachorro(Animal):\n",
    "    def locomove(self):\n",
    "        print('O cachorro anda.')\n",
    "\n",
    "piupiu = Passaro('Azul', 'Pequeno') # objeto\n",
    "nemo = Peixe('Laranja', 'Minúsculo')\n",
    "billy = Cachorro('Preto', 'Grande')"
   ]
  },
  {
   "cell_type": "code",
   "execution_count": null,
   "metadata": {
    "id": "S97rfZs3YpOh"
   },
   "outputs": [],
   "source": [
    "@property\n",
    "def variavel(self):\n",
    "    return self._variavel # atributo interno\n",
    "\n",
    "@variavel.setter # setter\n",
    "def variavel(self, novaVariavel):\n",
    "    self._variavel = novaVariavel"
   ]
  },
  {
   "cell_type": "markdown",
   "metadata": {
    "id": "2XSKo1PlYpOi"
   },
   "source": [
    "## Tratamentos de exceção<a class=\"anchor\" id=\"2\"></a>\n",
    "\n",
    "- Try/except\n",
    "- Try/except/else/finally\n",
    "- Criação de exceções (```raise Exception```)"
   ]
  },
  {
   "cell_type": "code",
   "execution_count": null,
   "metadata": {
    "id": "7_PGQcPjYpOi"
   },
   "outputs": [],
   "source": [
    "# Função para explicitar ordem do bloco\n",
    "def funcaoBlocoTry(numero):\n",
    "    try:\n",
    "        print(int(numero)) # Aqui entra o código passivel de falhas\n",
    "    except: \n",
    "        print(\"Aqui quando da erro\") # Aqui roda meu tratamento de possiveis erros\n",
    "    else: # Eu rodo quando nada da errado, e não tem retorno antes de mim\n",
    "        print(\"Deu certo\") # Aqui roda o caso sem erros\n",
    "    finally:\n",
    "        print(\"Aqui roda o finally\") # Aqui roda independente do que acontecer\n",
    "        \n",
    "funcaoBlocoTry(\"a\")"
   ]
  },
  {
   "cell_type": "markdown",
   "metadata": {
    "id": "EVtWYhalYpOj"
   },
   "source": [
    "## Módulos<a class=\"anchor\" id=\"3\"></a>\n",
    "\n",
    "- Criação de um módulo\n",
    "\n",
    "Criar arquivo \"modulo.py\" (preferencialmente na mesma pasta do arquivo principal)\n",
    "\n",
    "- Importação de módulos\n",
    "\n",
    "```import <modulo>```\n",
    "\n",
    "```import <modulo> as <alias>```\n",
    "\n",
    "- Importação de funções e atributos\n",
    "\n",
    "```from <modulo> import <funcao>```"
   ]
  },
  {
   "cell_type": "code",
   "execution_count": null,
   "metadata": {
    "id": "zpzYmLc0YpOj"
   },
   "outputs": [],
   "source": [
    "# Exemplos de import\n",
    "import pandas # um módulo inteiro\n",
    "from math import pi # uma constante de um módulo\n",
    "import numpy, re # dois módulos na mesma linha\n",
    "import matplotlib.pyplot as plt # um submódulo com alias"
   ]
  },
  {
   "cell_type": "markdown",
   "metadata": {
    "id": "ldgcsaWPYpOk"
   },
   "source": [
    "## Exercícios<a class=\"anchor\" id=\"4\"></a>"
   ]
  },
  {
   "cell_type": "markdown",
   "metadata": {
    "id": "NHlheAVPYpOk"
   },
   "source": [
    "🏆 **Hora do quizz**\n",
    "\n",
    "\n",
    "https://www.mentimeter.com/"
   ]
  },
  {
   "cell_type": "markdown",
   "metadata": {
    "id": "Jyu-206_YpOl"
   },
   "source": [
    "💰 **Caixa registradora**\n",
    "\n",
    "Construa uma classe que represente um **produto** e crie um estoque de produtos. Um produto deve conter sua descrição e seu valor. Inclua os devidos tratamentos de exceção para seus valores.\n",
    "\n",
    "Construa uma classe que represente uma **compra**. Ela deve possuir os seguintes métodos:\n",
    "\n",
    "1. adicionarProduto(): Deve receber como parâmetros um produto e uma quantidade. Ao adicionar um produto na compra, deve mostrar o subtotal da compra.\n",
    "2. finalizarCompra(): Não recebe nenhum parâmetro. Calcula o valor total da compra e deve mostrar a lista de produtos, a quantidade total de itens e o valor total da compra. Exemplo:\n",
    "\n",
    "| Qtd | Item | Valor unitário |\n",
    "|-----|------|--------------- |\n",
    "| 2 | Lápis | R\\$ 0,50 |\n",
    "| 1 | Caneta | R\\$ 1,20 |\n",
    "\n",
    "Quantidade total de itens: 3\n",
    "\n",
    "Valor total: R$ 2,20\n",
    "\n",
    "3. receberPagamento(): Deve receber como parâmetros o valor pago. Deve mostrar o valor pago e o troco. Caso o valor pago seja insuficiente, deve apresentar uma mensagem informando.\n",
    "\n",
    "Podem incluir quantos atributos forem necessários.\n",
    "\n",
    "Por fim, utilizem as classes para simular alguns casos."
   ]
  },
  {
   "cell_type": "code",
   "execution_count": null,
   "metadata": {
    "id": "qXn_6b7RYpOl"
   },
   "outputs": [],
   "source": [
    "# Classe Produto\n",
    "class Produto(object):\n",
    "    \n",
    "    def ___init__(self, desc, valor):\n",
    "      try:\n",
    "        self.descricao = str(desc)\n",
    "        self.valor = float(valor)\n",
    "      except:\n",
    "        print(\"A descrição deve ser um texto e o valor um numero (com decimal ou não)\")\n",
    "        return None\n",
    "    \n",
    "    def __repr__(self): # Apresentando outro método mágico que podemos criar\n",
    "        if(hasattr(self, 'valor') and hasattr(self, 'codigo')):\n",
    "            return'Producto {} - valor: {}'.format(self.codigo, self.valor)\n",
    "        else:\n",
    "            return'Producto inválido'"
   ]
  },
  {
   "cell_type": "code",
   "execution_count": null,
   "metadata": {
    "id": "zjYP96UdZV4Q"
   },
   "outputs": [],
   "source": [
    "class Compra(object):\n",
    "  def __init__(self):\n",
    "    self.listaCompra = []\n",
    "\n",
    "  def adicionaProduto(self, produto, quantidade):\n",
    "    self.listaCompra.append([produto.descricao, produto.valor, produto.valor*quantidade])"
   ]
  },
  {
   "cell_type": "markdown",
   "metadata": {
    "id": "MzudYMZGYpOm"
   },
   "source": [
    "## Testes unitários<a class=\"anchor\" id=\"\"></a>\n",
    "\n",
    "São muito utilizados em programação orientada a objetos e é a base da técnica *TDD - Test Driven Development*.\n",
    "\n",
    "Nesta técnica, os testes são escritos primeiro, para depois desenvolver as novas funcionalidades e/ou refatoração do código.\n",
    "\n",
    "No python, utilizamos a biblioteca unittest (<a href=\"https://docs.python.org/pt-br/3/library/unittest.html\">Documentação</a>)"
   ]
  },
  {
   "cell_type": "markdown",
   "metadata": {
    "id": "ygOEL9s_YpOm"
   },
   "source": [
    "```python\n",
    "import unittest\n",
    "\n",
    "# Função que verifica se um número é primo\n",
    "def is_prime(n):\n",
    "    if n <= 1:\n",
    "        result = False\n",
    "    else:\n",
    "        result = True\n",
    "    for div in range(2, n):\n",
    "        if n % div == 0:\n",
    "            result = False\n",
    "            break;\n",
    "    return result\n",
    "    \n",
    "# Classe de testes para a função acima\n",
    "class IsPrimeTestCase(unittest.TestCase): # Um conjunto de testes\n",
    "    def test_is_prime_to_1(self): # definição do teste como um método\n",
    "        result = is_prime(1) # chamada da função a ser testada\n",
    "        self.assertFalse(result) # verifica resultado\n",
    "\n",
    "    def test_is_prime_to_2(self): # definição do teste como um método\n",
    "        result = is_prime(2) # chamada da função a ser testada\n",
    "        self.assertEqual(result, True) # verifica resultado\n",
    "        \n",
    "        \n",
    "if __name__ == '__main__':\n",
    "    unittest.main() # Vai rodar todos os testes dentro das classes de testes do módulo/script executado\n",
    "```"
   ]
  }
 ],
 "metadata": {
  "colab": {
   "name": "Aula 15 - Revisão OO.ipynb",
   "provenance": []
  },
  "kernelspec": {
   "display_name": "Python 3 (ipykernel)",
   "language": "python",
   "name": "python3"
  },
  "language_info": {
   "codemirror_mode": {
    "name": "ipython",
    "version": 3
   },
   "file_extension": ".py",
   "mimetype": "text/x-python",
   "name": "python",
   "nbconvert_exporter": "python",
   "pygments_lexer": "ipython3",
   "version": "3.9.2"
  }
 },
 "nbformat": 4,
 "nbformat_minor": 1
}
